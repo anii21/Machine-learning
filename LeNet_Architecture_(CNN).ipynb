{
  "nbformat": 4,
  "nbformat_minor": 0,
  "metadata": {
    "colab": {
      "provenance": [],
      "toc_visible": true
    },
    "kernelspec": {
      "name": "python3",
      "display_name": "Python 3"
    },
    "language_info": {
      "name": "python"
    }
  },
  "cells": [
    {
      "cell_type": "code",
      "execution_count": 1,
      "metadata": {
        "id": "CIe-PxQ1byAD"
      },
      "outputs": [],
      "source": [
        "import tensorflow"
      ]
    },
    {
      "cell_type": "code",
      "source": [
        "from tensorflow import keras\n",
        "from keras.layers import Dense,Conv2D,Flatten,AveragePooling2D\n",
        "from keras import Sequential\n",
        "from keras.datasets import mnist"
      ],
      "metadata": {
        "id": "5ubb2Q1fcDsj"
      },
      "execution_count": 2,
      "outputs": []
    },
    {
      "cell_type": "code",
      "source": [
        "(X_train,y_train),(X_test,y_test) = mnist.load_data()"
      ],
      "metadata": {
        "colab": {
          "base_uri": "https://localhost:8080/"
        },
        "id": "1Vh3kWKMcd_7",
        "outputId": "aba952fc-a249-4b9a-9f38-19d0678d589f"
      },
      "execution_count": 3,
      "outputs": [
        {
          "output_type": "stream",
          "name": "stdout",
          "text": [
            "Downloading data from https://storage.googleapis.com/tensorflow/tf-keras-datasets/mnist.npz\n",
            "11490434/11490434 [==============================] - 0s 0us/step\n"
          ]
        }
      ]
    },
    {
      "cell_type": "markdown",
      "source": [
        "# **LeNet Architecture**"
      ],
      "metadata": {
        "id": "bc91ypstfSlM"
      }
    },
    {
      "cell_type": "markdown",
      "source": [
        "# **![download.png](data:image/png;base64,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)**"
      ],
      "metadata": {
        "id": "QxqJWx8meeSZ"
      }
    },
    {
      "cell_type": "code",
      "source": [
        "model = Sequential()\n",
        "\n",
        "model.add(Conv2D(6,kernel_size=(5,5),padding='valid',activation='tanh',input_shape=(32,32,1)))\n",
        "model.add(AveragePooling2D(pool_size=(2,2),strides=2,padding='valid'))\n",
        "\n",
        "model.add(Conv2D(16,kernel_size=(5,5),padding='valid',activation='tanh'))\n",
        "model.add(AveragePooling2D(pool_size=(2,2),strides=2,padding='valid'))\n",
        "\n",
        "model.add(Flatten())\n",
        "\n",
        "model.add(Dense(120, activation='tanh'))\n",
        "model.add(Dense(84, activation='tanh'))\n",
        "model.add(Dense(10, activation='softmax'))"
      ],
      "metadata": {
        "id": "AaihhZncceDO"
      },
      "execution_count": 6,
      "outputs": []
    },
    {
      "cell_type": "code",
      "source": [
        "model.summary()"
      ],
      "metadata": {
        "colab": {
          "base_uri": "https://localhost:8080/"
        },
        "id": "nRGubQW3ceMX",
        "outputId": "333f41e8-ed0d-48fb-83f8-8b845375cef1"
      },
      "execution_count": 7,
      "outputs": [
        {
          "output_type": "stream",
          "name": "stdout",
          "text": [
            "Model: \"sequential_2\"\n",
            "_________________________________________________________________\n",
            " Layer (type)                Output Shape              Param #   \n",
            "=================================================================\n",
            " conv2d_2 (Conv2D)           (None, 28, 28, 6)         156       \n",
            "                                                                 \n",
            " average_pooling2d_1 (Avera  (None, 14, 14, 6)         0         \n",
            " gePooling2D)                                                    \n",
            "                                                                 \n",
            " conv2d_3 (Conv2D)           (None, 10, 10, 16)        2416      \n",
            "                                                                 \n",
            " average_pooling2d_2 (Avera  (None, 5, 5, 16)          0         \n",
            " gePooling2D)                                                    \n",
            "                                                                 \n",
            " flatten (Flatten)           (None, 400)               0         \n",
            "                                                                 \n",
            " dense (Dense)               (None, 120)               48120     \n",
            "                                                                 \n",
            " dense_1 (Dense)             (None, 84)                10164     \n",
            "                                                                 \n",
            " dense_2 (Dense)             (None, 10)                850       \n",
            "                                                                 \n",
            "=================================================================\n",
            "Total params: 61706 (241.04 KB)\n",
            "Trainable params: 61706 (241.04 KB)\n",
            "Non-trainable params: 0 (0.00 Byte)\n",
            "_________________________________________________________________\n"
          ]
        }
      ]
    }
  ]
}