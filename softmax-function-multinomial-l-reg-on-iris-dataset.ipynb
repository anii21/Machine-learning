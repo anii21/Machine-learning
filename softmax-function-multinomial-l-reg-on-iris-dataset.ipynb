{
 "cells": [
  {
   "cell_type": "code",
   "execution_count": 1,
   "id": "c48c96ea",
   "metadata": {
    "_cell_guid": "b1076dfc-b9ad-4769-8c92-a6c4dae69d19",
    "_uuid": "8f2839f25d086af736a60e9eeb907d3b93b6e0e5",
    "execution": {
     "iopub.execute_input": "2024-01-19T16:50:00.265626Z",
     "iopub.status.busy": "2024-01-19T16:50:00.265100Z",
     "iopub.status.idle": "2024-01-19T16:50:00.663343Z",
     "shell.execute_reply": "2024-01-19T16:50:00.662262Z"
    },
    "papermill": {
     "duration": 0.409411,
     "end_time": "2024-01-19T16:50:00.665824",
     "exception": false,
     "start_time": "2024-01-19T16:50:00.256413",
     "status": "completed"
    },
    "tags": []
   },
   "outputs": [
    {
     "name": "stdout",
     "output_type": "stream",
     "text": [
      "/kaggle/input/iris/Iris.csv\n",
      "/kaggle/input/iris/database.sqlite\n"
     ]
    }
   ],
   "source": [
    "# This Python 3 environment comes with many helpful analytics libraries installed\n",
    "# It is defined by the kaggle/python Docker image: https://github.com/kaggle/docker-python\n",
    "# For example, here's several helpful packages to load\n",
    "\n",
    "import numpy as np # linear algebra\n",
    "import pandas as pd # data processing, CSV file I/O (e.g. pd.read_csv)\n",
    "\n",
    "# Input data files are available in the read-only \"../input/\" directory\n",
    "# For example, running this (by clicking run or pressing Shift+Enter) will list all files under the input directory\n",
    "\n",
    "import os\n",
    "for dirname, _, filenames in os.walk('/kaggle/input'):\n",
    "    for filename in filenames:\n",
    "        print(os.path.join(dirname, filename))\n",
    "\n",
    "# You can write up to 20GB to the current directory (/kaggle/working/) that gets preserved as output when you create a version using \"Save & Run All\" \n",
    "# You can also write temporary files to /kaggle/temp/, but they won't be saved outside of the current session"
   ]
  },
  {
   "cell_type": "code",
   "execution_count": 2,
   "id": "d4dce752",
   "metadata": {
    "execution": {
     "iopub.execute_input": "2024-01-19T16:50:00.680055Z",
     "iopub.status.busy": "2024-01-19T16:50:00.679331Z",
     "iopub.status.idle": "2024-01-19T16:50:01.667747Z",
     "shell.execute_reply": "2024-01-19T16:50:01.666518Z"
    },
    "papermill": {
     "duration": 0.998222,
     "end_time": "2024-01-19T16:50:01.670255",
     "exception": false,
     "start_time": "2024-01-19T16:50:00.672033",
     "status": "completed"
    },
    "tags": []
   },
   "outputs": [],
   "source": [
    "from sklearn.preprocessing import LabelEncoder"
   ]
  },
  {
   "cell_type": "code",
   "execution_count": 3,
   "id": "f46563f0",
   "metadata": {
    "execution": {
     "iopub.execute_input": "2024-01-19T16:50:01.683869Z",
     "iopub.status.busy": "2024-01-19T16:50:01.683490Z",
     "iopub.status.idle": "2024-01-19T16:50:01.717756Z",
     "shell.execute_reply": "2024-01-19T16:50:01.716804Z"
    },
    "papermill": {
     "duration": 0.043793,
     "end_time": "2024-01-19T16:50:01.720154",
     "exception": false,
     "start_time": "2024-01-19T16:50:01.676361",
     "status": "completed"
    },
    "tags": []
   },
   "outputs": [],
   "source": [
    "df= pd.read_csv('/kaggle/input/iris/Iris.csv')"
   ]
  },
  {
   "cell_type": "code",
   "execution_count": 4,
   "id": "2cbcce83",
   "metadata": {
    "execution": {
     "iopub.execute_input": "2024-01-19T16:50:01.734175Z",
     "iopub.status.busy": "2024-01-19T16:50:01.733233Z",
     "iopub.status.idle": "2024-01-19T16:50:01.757978Z",
     "shell.execute_reply": "2024-01-19T16:50:01.756876Z"
    },
    "papermill": {
     "duration": 0.033789,
     "end_time": "2024-01-19T16:50:01.760071",
     "exception": false,
     "start_time": "2024-01-19T16:50:01.726282",
     "status": "completed"
    },
    "tags": []
   },
   "outputs": [
    {
     "data": {
      "text/html": [
       "<div>\n",
       "<style scoped>\n",
       "    .dataframe tbody tr th:only-of-type {\n",
       "        vertical-align: middle;\n",
       "    }\n",
       "\n",
       "    .dataframe tbody tr th {\n",
       "        vertical-align: top;\n",
       "    }\n",
       "\n",
       "    .dataframe thead th {\n",
       "        text-align: right;\n",
       "    }\n",
       "</style>\n",
       "<table border=\"1\" class=\"dataframe\">\n",
       "  <thead>\n",
       "    <tr style=\"text-align: right;\">\n",
       "      <th></th>\n",
       "      <th>Id</th>\n",
       "      <th>SepalLengthCm</th>\n",
       "      <th>SepalWidthCm</th>\n",
       "      <th>PetalLengthCm</th>\n",
       "      <th>PetalWidthCm</th>\n",
       "      <th>Species</th>\n",
       "    </tr>\n",
       "  </thead>\n",
       "  <tbody>\n",
       "    <tr>\n",
       "      <th>0</th>\n",
       "      <td>1</td>\n",
       "      <td>5.1</td>\n",
       "      <td>3.5</td>\n",
       "      <td>1.4</td>\n",
       "      <td>0.2</td>\n",
       "      <td>Iris-setosa</td>\n",
       "    </tr>\n",
       "    <tr>\n",
       "      <th>1</th>\n",
       "      <td>2</td>\n",
       "      <td>4.9</td>\n",
       "      <td>3.0</td>\n",
       "      <td>1.4</td>\n",
       "      <td>0.2</td>\n",
       "      <td>Iris-setosa</td>\n",
       "    </tr>\n",
       "    <tr>\n",
       "      <th>2</th>\n",
       "      <td>3</td>\n",
       "      <td>4.7</td>\n",
       "      <td>3.2</td>\n",
       "      <td>1.3</td>\n",
       "      <td>0.2</td>\n",
       "      <td>Iris-setosa</td>\n",
       "    </tr>\n",
       "    <tr>\n",
       "      <th>3</th>\n",
       "      <td>4</td>\n",
       "      <td>4.6</td>\n",
       "      <td>3.1</td>\n",
       "      <td>1.5</td>\n",
       "      <td>0.2</td>\n",
       "      <td>Iris-setosa</td>\n",
       "    </tr>\n",
       "    <tr>\n",
       "      <th>4</th>\n",
       "      <td>5</td>\n",
       "      <td>5.0</td>\n",
       "      <td>3.6</td>\n",
       "      <td>1.4</td>\n",
       "      <td>0.2</td>\n",
       "      <td>Iris-setosa</td>\n",
       "    </tr>\n",
       "  </tbody>\n",
       "</table>\n",
       "</div>"
      ],
      "text/plain": [
       "   Id  SepalLengthCm  SepalWidthCm  PetalLengthCm  PetalWidthCm      Species\n",
       "0   1            5.1           3.5            1.4           0.2  Iris-setosa\n",
       "1   2            4.9           3.0            1.4           0.2  Iris-setosa\n",
       "2   3            4.7           3.2            1.3           0.2  Iris-setosa\n",
       "3   4            4.6           3.1            1.5           0.2  Iris-setosa\n",
       "4   5            5.0           3.6            1.4           0.2  Iris-setosa"
      ]
     },
     "execution_count": 4,
     "metadata": {},
     "output_type": "execute_result"
    }
   ],
   "source": [
    "df.head()"
   ]
  },
  {
   "cell_type": "code",
   "execution_count": 5,
   "id": "60f36b59",
   "metadata": {
    "execution": {
     "iopub.execute_input": "2024-01-19T16:50:01.774418Z",
     "iopub.status.busy": "2024-01-19T16:50:01.773630Z",
     "iopub.status.idle": "2024-01-19T16:50:01.778969Z",
     "shell.execute_reply": "2024-01-19T16:50:01.777926Z"
    },
    "papermill": {
     "duration": 0.014723,
     "end_time": "2024-01-19T16:50:01.780967",
     "exception": false,
     "start_time": "2024-01-19T16:50:01.766244",
     "status": "completed"
    },
    "tags": []
   },
   "outputs": [],
   "source": [
    "encoder = LabelEncoder()\n",
    "df['Species'] = encoder.fit_transform(df['Species'])"
   ]
  },
  {
   "cell_type": "code",
   "execution_count": 6,
   "id": "10bb3476",
   "metadata": {
    "execution": {
     "iopub.execute_input": "2024-01-19T16:50:01.795212Z",
     "iopub.status.busy": "2024-01-19T16:50:01.794882Z",
     "iopub.status.idle": "2024-01-19T16:50:01.813498Z",
     "shell.execute_reply": "2024-01-19T16:50:01.812786Z"
    },
    "papermill": {
     "duration": 0.028147,
     "end_time": "2024-01-19T16:50:01.815594",
     "exception": false,
     "start_time": "2024-01-19T16:50:01.787447",
     "status": "completed"
    },
    "tags": []
   },
   "outputs": [
    {
     "data": {
      "text/html": [
       "<div>\n",
       "<style scoped>\n",
       "    .dataframe tbody tr th:only-of-type {\n",
       "        vertical-align: middle;\n",
       "    }\n",
       "\n",
       "    .dataframe tbody tr th {\n",
       "        vertical-align: top;\n",
       "    }\n",
       "\n",
       "    .dataframe thead th {\n",
       "        text-align: right;\n",
       "    }\n",
       "</style>\n",
       "<table border=\"1\" class=\"dataframe\">\n",
       "  <thead>\n",
       "    <tr style=\"text-align: right;\">\n",
       "      <th></th>\n",
       "      <th>Id</th>\n",
       "      <th>SepalLengthCm</th>\n",
       "      <th>SepalWidthCm</th>\n",
       "      <th>PetalLengthCm</th>\n",
       "      <th>PetalWidthCm</th>\n",
       "      <th>Species</th>\n",
       "    </tr>\n",
       "  </thead>\n",
       "  <tbody>\n",
       "    <tr>\n",
       "      <th>113</th>\n",
       "      <td>114</td>\n",
       "      <td>5.7</td>\n",
       "      <td>2.5</td>\n",
       "      <td>5.0</td>\n",
       "      <td>2.0</td>\n",
       "      <td>2</td>\n",
       "    </tr>\n",
       "    <tr>\n",
       "      <th>130</th>\n",
       "      <td>131</td>\n",
       "      <td>7.4</td>\n",
       "      <td>2.8</td>\n",
       "      <td>6.1</td>\n",
       "      <td>1.9</td>\n",
       "      <td>2</td>\n",
       "    </tr>\n",
       "    <tr>\n",
       "      <th>72</th>\n",
       "      <td>73</td>\n",
       "      <td>6.3</td>\n",
       "      <td>2.5</td>\n",
       "      <td>4.9</td>\n",
       "      <td>1.5</td>\n",
       "      <td>1</td>\n",
       "    </tr>\n",
       "    <tr>\n",
       "      <th>105</th>\n",
       "      <td>106</td>\n",
       "      <td>7.6</td>\n",
       "      <td>3.0</td>\n",
       "      <td>6.6</td>\n",
       "      <td>2.1</td>\n",
       "      <td>2</td>\n",
       "    </tr>\n",
       "    <tr>\n",
       "      <th>86</th>\n",
       "      <td>87</td>\n",
       "      <td>6.7</td>\n",
       "      <td>3.1</td>\n",
       "      <td>4.7</td>\n",
       "      <td>1.5</td>\n",
       "      <td>1</td>\n",
       "    </tr>\n",
       "  </tbody>\n",
       "</table>\n",
       "</div>"
      ],
      "text/plain": [
       "      Id  SepalLengthCm  SepalWidthCm  PetalLengthCm  PetalWidthCm  Species\n",
       "113  114            5.7           2.5            5.0           2.0        2\n",
       "130  131            7.4           2.8            6.1           1.9        2\n",
       "72    73            6.3           2.5            4.9           1.5        1\n",
       "105  106            7.6           3.0            6.6           2.1        2\n",
       "86    87            6.7           3.1            4.7           1.5        1"
      ]
     },
     "execution_count": 6,
     "metadata": {},
     "output_type": "execute_result"
    }
   ],
   "source": [
    "df.sample(5)"
   ]
  },
  {
   "cell_type": "code",
   "execution_count": 7,
   "id": "c9646922",
   "metadata": {
    "execution": {
     "iopub.execute_input": "2024-01-19T16:50:01.830200Z",
     "iopub.status.busy": "2024-01-19T16:50:01.829625Z",
     "iopub.status.idle": "2024-01-19T16:50:01.850405Z",
     "shell.execute_reply": "2024-01-19T16:50:01.849418Z"
    },
    "papermill": {
     "duration": 0.030446,
     "end_time": "2024-01-19T16:50:01.852609",
     "exception": false,
     "start_time": "2024-01-19T16:50:01.822163",
     "status": "completed"
    },
    "tags": []
   },
   "outputs": [
    {
     "data": {
      "text/html": [
       "<div>\n",
       "<style scoped>\n",
       "    .dataframe tbody tr th:only-of-type {\n",
       "        vertical-align: middle;\n",
       "    }\n",
       "\n",
       "    .dataframe tbody tr th {\n",
       "        vertical-align: top;\n",
       "    }\n",
       "\n",
       "    .dataframe thead th {\n",
       "        text-align: right;\n",
       "    }\n",
       "</style>\n",
       "<table border=\"1\" class=\"dataframe\">\n",
       "  <thead>\n",
       "    <tr style=\"text-align: right;\">\n",
       "      <th></th>\n",
       "      <th>SepalLengthCm</th>\n",
       "      <th>SepalWidthCm</th>\n",
       "      <th>PetalLengthCm</th>\n",
       "      <th>PetalWidthCm</th>\n",
       "      <th>Species</th>\n",
       "    </tr>\n",
       "  </thead>\n",
       "  <tbody>\n",
       "    <tr>\n",
       "      <th>0</th>\n",
       "      <td>5.1</td>\n",
       "      <td>3.5</td>\n",
       "      <td>1.4</td>\n",
       "      <td>0.2</td>\n",
       "      <td>0</td>\n",
       "    </tr>\n",
       "    <tr>\n",
       "      <th>1</th>\n",
       "      <td>4.9</td>\n",
       "      <td>3.0</td>\n",
       "      <td>1.4</td>\n",
       "      <td>0.2</td>\n",
       "      <td>0</td>\n",
       "    </tr>\n",
       "    <tr>\n",
       "      <th>2</th>\n",
       "      <td>4.7</td>\n",
       "      <td>3.2</td>\n",
       "      <td>1.3</td>\n",
       "      <td>0.2</td>\n",
       "      <td>0</td>\n",
       "    </tr>\n",
       "    <tr>\n",
       "      <th>3</th>\n",
       "      <td>4.6</td>\n",
       "      <td>3.1</td>\n",
       "      <td>1.5</td>\n",
       "      <td>0.2</td>\n",
       "      <td>0</td>\n",
       "    </tr>\n",
       "    <tr>\n",
       "      <th>4</th>\n",
       "      <td>5.0</td>\n",
       "      <td>3.6</td>\n",
       "      <td>1.4</td>\n",
       "      <td>0.2</td>\n",
       "      <td>0</td>\n",
       "    </tr>\n",
       "    <tr>\n",
       "      <th>...</th>\n",
       "      <td>...</td>\n",
       "      <td>...</td>\n",
       "      <td>...</td>\n",
       "      <td>...</td>\n",
       "      <td>...</td>\n",
       "    </tr>\n",
       "    <tr>\n",
       "      <th>145</th>\n",
       "      <td>6.7</td>\n",
       "      <td>3.0</td>\n",
       "      <td>5.2</td>\n",
       "      <td>2.3</td>\n",
       "      <td>2</td>\n",
       "    </tr>\n",
       "    <tr>\n",
       "      <th>146</th>\n",
       "      <td>6.3</td>\n",
       "      <td>2.5</td>\n",
       "      <td>5.0</td>\n",
       "      <td>1.9</td>\n",
       "      <td>2</td>\n",
       "    </tr>\n",
       "    <tr>\n",
       "      <th>147</th>\n",
       "      <td>6.5</td>\n",
       "      <td>3.0</td>\n",
       "      <td>5.2</td>\n",
       "      <td>2.0</td>\n",
       "      <td>2</td>\n",
       "    </tr>\n",
       "    <tr>\n",
       "      <th>148</th>\n",
       "      <td>6.2</td>\n",
       "      <td>3.4</td>\n",
       "      <td>5.4</td>\n",
       "      <td>2.3</td>\n",
       "      <td>2</td>\n",
       "    </tr>\n",
       "    <tr>\n",
       "      <th>149</th>\n",
       "      <td>5.9</td>\n",
       "      <td>3.0</td>\n",
       "      <td>5.1</td>\n",
       "      <td>1.8</td>\n",
       "      <td>2</td>\n",
       "    </tr>\n",
       "  </tbody>\n",
       "</table>\n",
       "<p>150 rows × 5 columns</p>\n",
       "</div>"
      ],
      "text/plain": [
       "     SepalLengthCm  SepalWidthCm  PetalLengthCm  PetalWidthCm  Species\n",
       "0              5.1           3.5            1.4           0.2        0\n",
       "1              4.9           3.0            1.4           0.2        0\n",
       "2              4.7           3.2            1.3           0.2        0\n",
       "3              4.6           3.1            1.5           0.2        0\n",
       "4              5.0           3.6            1.4           0.2        0\n",
       "..             ...           ...            ...           ...      ...\n",
       "145            6.7           3.0            5.2           2.3        2\n",
       "146            6.3           2.5            5.0           1.9        2\n",
       "147            6.5           3.0            5.2           2.0        2\n",
       "148            6.2           3.4            5.4           2.3        2\n",
       "149            5.9           3.0            5.1           1.8        2\n",
       "\n",
       "[150 rows x 5 columns]"
      ]
     },
     "execution_count": 7,
     "metadata": {},
     "output_type": "execute_result"
    }
   ],
   "source": [
    "df.drop(df.columns[5],axis=1)\n",
    "df.drop(df.columns[0],axis=1)"
   ]
  },
  {
   "cell_type": "code",
   "execution_count": 8,
   "id": "86316b40",
   "metadata": {
    "execution": {
     "iopub.execute_input": "2024-01-19T16:50:01.867783Z",
     "iopub.status.busy": "2024-01-19T16:50:01.866962Z",
     "iopub.status.idle": "2024-01-19T16:50:01.878917Z",
     "shell.execute_reply": "2024-01-19T16:50:01.877920Z"
    },
    "papermill": {
     "duration": 0.021826,
     "end_time": "2024-01-19T16:50:01.881119",
     "exception": false,
     "start_time": "2024-01-19T16:50:01.859293",
     "status": "completed"
    },
    "tags": []
   },
   "outputs": [
    {
     "data": {
      "text/html": [
       "<div>\n",
       "<style scoped>\n",
       "    .dataframe tbody tr th:only-of-type {\n",
       "        vertical-align: middle;\n",
       "    }\n",
       "\n",
       "    .dataframe tbody tr th {\n",
       "        vertical-align: top;\n",
       "    }\n",
       "\n",
       "    .dataframe thead th {\n",
       "        text-align: right;\n",
       "    }\n",
       "</style>\n",
       "<table border=\"1\" class=\"dataframe\">\n",
       "  <thead>\n",
       "    <tr style=\"text-align: right;\">\n",
       "      <th></th>\n",
       "      <th>SepalLengthCm</th>\n",
       "      <th>PetalLengthCm</th>\n",
       "      <th>Species</th>\n",
       "    </tr>\n",
       "  </thead>\n",
       "  <tbody>\n",
       "    <tr>\n",
       "      <th>0</th>\n",
       "      <td>5.1</td>\n",
       "      <td>1.4</td>\n",
       "      <td>0</td>\n",
       "    </tr>\n",
       "    <tr>\n",
       "      <th>1</th>\n",
       "      <td>4.9</td>\n",
       "      <td>1.4</td>\n",
       "      <td>0</td>\n",
       "    </tr>\n",
       "    <tr>\n",
       "      <th>2</th>\n",
       "      <td>4.7</td>\n",
       "      <td>1.3</td>\n",
       "      <td>0</td>\n",
       "    </tr>\n",
       "    <tr>\n",
       "      <th>3</th>\n",
       "      <td>4.6</td>\n",
       "      <td>1.5</td>\n",
       "      <td>0</td>\n",
       "    </tr>\n",
       "    <tr>\n",
       "      <th>4</th>\n",
       "      <td>5.0</td>\n",
       "      <td>1.4</td>\n",
       "      <td>0</td>\n",
       "    </tr>\n",
       "  </tbody>\n",
       "</table>\n",
       "</div>"
      ],
      "text/plain": [
       "   SepalLengthCm  PetalLengthCm  Species\n",
       "0            5.1            1.4        0\n",
       "1            4.9            1.4        0\n",
       "2            4.7            1.3        0\n",
       "3            4.6            1.5        0\n",
       "4            5.0            1.4        0"
      ]
     },
     "execution_count": 8,
     "metadata": {},
     "output_type": "execute_result"
    }
   ],
   "source": [
    "df=df[['SepalLengthCm','PetalLengthCm','Species']]\n",
    "df.head()"
   ]
  },
  {
   "cell_type": "code",
   "execution_count": 9,
   "id": "1038ecb0",
   "metadata": {
    "execution": {
     "iopub.execute_input": "2024-01-19T16:50:01.896579Z",
     "iopub.status.busy": "2024-01-19T16:50:01.896201Z",
     "iopub.status.idle": "2024-01-19T16:50:01.905251Z",
     "shell.execute_reply": "2024-01-19T16:50:01.904183Z"
    },
    "papermill": {
     "duration": 0.019926,
     "end_time": "2024-01-19T16:50:01.908152",
     "exception": false,
     "start_time": "2024-01-19T16:50:01.888226",
     "status": "completed"
    },
    "tags": []
   },
   "outputs": [
    {
     "name": "stdout",
     "output_type": "stream",
     "text": [
      "     SepalLengthCm  PetalLengthCm\n",
      "0              5.1            1.4\n",
      "1              4.9            1.4\n",
      "2              4.7            1.3\n",
      "3              4.6            1.5\n",
      "4              5.0            1.4\n",
      "..             ...            ...\n",
      "145            6.7            5.2\n",
      "146            6.3            5.0\n",
      "147            6.5            5.2\n",
      "148            6.2            5.4\n",
      "149            5.9            5.1\n",
      "\n",
      "[150 rows x 2 columns]\n"
     ]
    }
   ],
   "source": [
    "X = df.iloc[:,0:2]\n",
    "y = df.iloc[:,-1]\n",
    "print(X)"
   ]
  },
  {
   "cell_type": "code",
   "execution_count": 10,
   "id": "78ee1da9",
   "metadata": {
    "execution": {
     "iopub.execute_input": "2024-01-19T16:50:01.923956Z",
     "iopub.status.busy": "2024-01-19T16:50:01.923278Z",
     "iopub.status.idle": "2024-01-19T16:50:01.929881Z",
     "shell.execute_reply": "2024-01-19T16:50:01.928752Z"
    },
    "papermill": {
     "duration": 0.017204,
     "end_time": "2024-01-19T16:50:01.932294",
     "exception": false,
     "start_time": "2024-01-19T16:50:01.915090",
     "status": "completed"
    },
    "tags": []
   },
   "outputs": [
    {
     "name": "stdout",
     "output_type": "stream",
     "text": [
      "0      0\n",
      "1      0\n",
      "2      0\n",
      "3      0\n",
      "4      0\n",
      "      ..\n",
      "145    2\n",
      "146    2\n",
      "147    2\n",
      "148    2\n",
      "149    2\n",
      "Name: Species, Length: 150, dtype: int64\n"
     ]
    }
   ],
   "source": [
    "print(y)"
   ]
  },
  {
   "cell_type": "markdown",
   "id": "f3ad3225",
   "metadata": {
    "papermill": {
     "duration": 0.006627,
     "end_time": "2024-01-19T16:50:01.945817",
     "exception": false,
     "start_time": "2024-01-19T16:50:01.939190",
     "status": "completed"
    },
    "tags": []
   },
   "source": [
    "# **Splitting and Training data**"
   ]
  },
  {
   "cell_type": "code",
   "execution_count": 11,
   "id": "b745eada",
   "metadata": {
    "execution": {
     "iopub.execute_input": "2024-01-19T16:50:01.961174Z",
     "iopub.status.busy": "2024-01-19T16:50:01.960775Z",
     "iopub.status.idle": "2024-01-19T16:50:02.210861Z",
     "shell.execute_reply": "2024-01-19T16:50:02.209795Z"
    },
    "papermill": {
     "duration": 0.260832,
     "end_time": "2024-01-19T16:50:02.213402",
     "exception": false,
     "start_time": "2024-01-19T16:50:01.952570",
     "status": "completed"
    },
    "tags": []
   },
   "outputs": [],
   "source": [
    "from sklearn.model_selection import train_test_split\n",
    "from sklearn.linear_model import LogisticRegression"
   ]
  },
  {
   "cell_type": "markdown",
   "id": "7a7e4aba",
   "metadata": {
    "papermill": {
     "duration": 0.006603,
     "end_time": "2024-01-19T16:50:02.227121",
     "exception": false,
     "start_time": "2024-01-19T16:50:02.220518",
     "status": "completed"
    },
    "tags": []
   },
   "source": []
  },
  {
   "cell_type": "code",
   "execution_count": 12,
   "id": "cf5de2e1",
   "metadata": {
    "execution": {
     "iopub.execute_input": "2024-01-19T16:50:02.242864Z",
     "iopub.status.busy": "2024-01-19T16:50:02.242448Z",
     "iopub.status.idle": "2024-01-19T16:50:02.249849Z",
     "shell.execute_reply": "2024-01-19T16:50:02.248866Z"
    },
    "papermill": {
     "duration": 0.01807,
     "end_time": "2024-01-19T16:50:02.251956",
     "exception": false,
     "start_time": "2024-01-19T16:50:02.233886",
     "status": "completed"
    },
    "tags": []
   },
   "outputs": [],
   "source": [
    "X_train,X_test,y_train,y_test=train_test_split(X,y,test_size=0.2,random_state=2)"
   ]
  },
  {
   "cell_type": "code",
   "execution_count": 13,
   "id": "28ebf349",
   "metadata": {
    "execution": {
     "iopub.execute_input": "2024-01-19T16:50:02.267438Z",
     "iopub.status.busy": "2024-01-19T16:50:02.267052Z",
     "iopub.status.idle": "2024-01-19T16:50:02.271557Z",
     "shell.execute_reply": "2024-01-19T16:50:02.270765Z"
    },
    "papermill": {
     "duration": 0.0145,
     "end_time": "2024-01-19T16:50:02.273377",
     "exception": false,
     "start_time": "2024-01-19T16:50:02.258877",
     "status": "completed"
    },
    "tags": []
   },
   "outputs": [],
   "source": [
    "clf = LogisticRegression(multi_class='multinomial')"
   ]
  },
  {
   "cell_type": "markdown",
   "id": "aa9f0154",
   "metadata": {
    "papermill": {
     "duration": 0.007221,
     "end_time": "2024-01-19T16:50:02.287587",
     "exception": false,
     "start_time": "2024-01-19T16:50:02.280366",
     "status": "completed"
    },
    "tags": []
   },
   "source": [
    "the above function shows the softmax resression [multinomial parameter is passed to use this function]"
   ]
  },
  {
   "cell_type": "code",
   "execution_count": 14,
   "id": "b682d799",
   "metadata": {
    "execution": {
     "iopub.execute_input": "2024-01-19T16:50:02.303754Z",
     "iopub.status.busy": "2024-01-19T16:50:02.302781Z",
     "iopub.status.idle": "2024-01-19T16:50:02.332889Z",
     "shell.execute_reply": "2024-01-19T16:50:02.331834Z"
    },
    "papermill": {
     "duration": 0.040694,
     "end_time": "2024-01-19T16:50:02.335185",
     "exception": false,
     "start_time": "2024-01-19T16:50:02.294491",
     "status": "completed"
    },
    "tags": []
   },
   "outputs": [
    {
     "data": {
      "text/html": [
       "<style>#sk-container-id-1 {color: black;background-color: white;}#sk-container-id-1 pre{padding: 0;}#sk-container-id-1 div.sk-toggleable {background-color: white;}#sk-container-id-1 label.sk-toggleable__label {cursor: pointer;display: block;width: 100%;margin-bottom: 0;padding: 0.3em;box-sizing: border-box;text-align: center;}#sk-container-id-1 label.sk-toggleable__label-arrow:before {content: \"▸\";float: left;margin-right: 0.25em;color: #696969;}#sk-container-id-1 label.sk-toggleable__label-arrow:hover:before {color: black;}#sk-container-id-1 div.sk-estimator:hover label.sk-toggleable__label-arrow:before {color: black;}#sk-container-id-1 div.sk-toggleable__content {max-height: 0;max-width: 0;overflow: hidden;text-align: left;background-color: #f0f8ff;}#sk-container-id-1 div.sk-toggleable__content pre {margin: 0.2em;color: black;border-radius: 0.25em;background-color: #f0f8ff;}#sk-container-id-1 input.sk-toggleable__control:checked~div.sk-toggleable__content {max-height: 200px;max-width: 100%;overflow: auto;}#sk-container-id-1 input.sk-toggleable__control:checked~label.sk-toggleable__label-arrow:before {content: \"▾\";}#sk-container-id-1 div.sk-estimator input.sk-toggleable__control:checked~label.sk-toggleable__label {background-color: #d4ebff;}#sk-container-id-1 div.sk-label input.sk-toggleable__control:checked~label.sk-toggleable__label {background-color: #d4ebff;}#sk-container-id-1 input.sk-hidden--visually {border: 0;clip: rect(1px 1px 1px 1px);clip: rect(1px, 1px, 1px, 1px);height: 1px;margin: -1px;overflow: hidden;padding: 0;position: absolute;width: 1px;}#sk-container-id-1 div.sk-estimator {font-family: monospace;background-color: #f0f8ff;border: 1px dotted black;border-radius: 0.25em;box-sizing: border-box;margin-bottom: 0.5em;}#sk-container-id-1 div.sk-estimator:hover {background-color: #d4ebff;}#sk-container-id-1 div.sk-parallel-item::after {content: \"\";width: 100%;border-bottom: 1px solid gray;flex-grow: 1;}#sk-container-id-1 div.sk-label:hover label.sk-toggleable__label {background-color: #d4ebff;}#sk-container-id-1 div.sk-serial::before {content: \"\";position: absolute;border-left: 1px solid gray;box-sizing: border-box;top: 0;bottom: 0;left: 50%;z-index: 0;}#sk-container-id-1 div.sk-serial {display: flex;flex-direction: column;align-items: center;background-color: white;padding-right: 0.2em;padding-left: 0.2em;position: relative;}#sk-container-id-1 div.sk-item {position: relative;z-index: 1;}#sk-container-id-1 div.sk-parallel {display: flex;align-items: stretch;justify-content: center;background-color: white;position: relative;}#sk-container-id-1 div.sk-item::before, #sk-container-id-1 div.sk-parallel-item::before {content: \"\";position: absolute;border-left: 1px solid gray;box-sizing: border-box;top: 0;bottom: 0;left: 50%;z-index: -1;}#sk-container-id-1 div.sk-parallel-item {display: flex;flex-direction: column;z-index: 1;position: relative;background-color: white;}#sk-container-id-1 div.sk-parallel-item:first-child::after {align-self: flex-end;width: 50%;}#sk-container-id-1 div.sk-parallel-item:last-child::after {align-self: flex-start;width: 50%;}#sk-container-id-1 div.sk-parallel-item:only-child::after {width: 0;}#sk-container-id-1 div.sk-dashed-wrapped {border: 1px dashed gray;margin: 0 0.4em 0.5em 0.4em;box-sizing: border-box;padding-bottom: 0.4em;background-color: white;}#sk-container-id-1 div.sk-label label {font-family: monospace;font-weight: bold;display: inline-block;line-height: 1.2em;}#sk-container-id-1 div.sk-label-container {text-align: center;}#sk-container-id-1 div.sk-container {/* jupyter's `normalize.less` sets `[hidden] { display: none; }` but bootstrap.min.css set `[hidden] { display: none !important; }` so we also need the `!important` here to be able to override the default hidden behavior on the sphinx rendered scikit-learn.org. See: https://github.com/scikit-learn/scikit-learn/issues/21755 */display: inline-block !important;position: relative;}#sk-container-id-1 div.sk-text-repr-fallback {display: none;}</style><div id=\"sk-container-id-1\" class=\"sk-top-container\"><div class=\"sk-text-repr-fallback\"><pre>LogisticRegression(multi_class=&#x27;multinomial&#x27;)</pre><b>In a Jupyter environment, please rerun this cell to show the HTML representation or trust the notebook. <br />On GitHub, the HTML representation is unable to render, please try loading this page with nbviewer.org.</b></div><div class=\"sk-container\" hidden><div class=\"sk-item\"><div class=\"sk-estimator sk-toggleable\"><input class=\"sk-toggleable__control sk-hidden--visually\" id=\"sk-estimator-id-1\" type=\"checkbox\" checked><label for=\"sk-estimator-id-1\" class=\"sk-toggleable__label sk-toggleable__label-arrow\">LogisticRegression</label><div class=\"sk-toggleable__content\"><pre>LogisticRegression(multi_class=&#x27;multinomial&#x27;)</pre></div></div></div></div></div>"
      ],
      "text/plain": [
       "LogisticRegression(multi_class='multinomial')"
      ]
     },
     "execution_count": 14,
     "metadata": {},
     "output_type": "execute_result"
    }
   ],
   "source": [
    "clf.fit(X_train,y_train)"
   ]
  },
  {
   "cell_type": "code",
   "execution_count": 15,
   "id": "4d26f521",
   "metadata": {
    "execution": {
     "iopub.execute_input": "2024-01-19T16:50:02.351430Z",
     "iopub.status.busy": "2024-01-19T16:50:02.350691Z",
     "iopub.status.idle": "2024-01-19T16:50:02.357037Z",
     "shell.execute_reply": "2024-01-19T16:50:02.356112Z"
    },
    "papermill": {
     "duration": 0.01653,
     "end_time": "2024-01-19T16:50:02.358835",
     "exception": false,
     "start_time": "2024-01-19T16:50:02.342305",
     "status": "completed"
    },
    "tags": []
   },
   "outputs": [],
   "source": [
    "y_pred= clf.predict(X_test)"
   ]
  },
  {
   "cell_type": "markdown",
   "id": "20e7b7d8",
   "metadata": {
    "papermill": {
     "duration": 0.006782,
     "end_time": "2024-01-19T16:50:02.372685",
     "exception": false,
     "start_time": "2024-01-19T16:50:02.365903",
     "status": "completed"
    },
    "tags": []
   },
   "source": [
    "# **Checking the classification matrix performance through accuracy and confusion matrix**"
   ]
  },
  {
   "cell_type": "code",
   "execution_count": 16,
   "id": "32ad33bc",
   "metadata": {
    "execution": {
     "iopub.execute_input": "2024-01-19T16:50:02.388739Z",
     "iopub.status.busy": "2024-01-19T16:50:02.387842Z",
     "iopub.status.idle": "2024-01-19T16:50:02.392129Z",
     "shell.execute_reply": "2024-01-19T16:50:02.391368Z"
    },
    "papermill": {
     "duration": 0.014365,
     "end_time": "2024-01-19T16:50:02.393978",
     "exception": false,
     "start_time": "2024-01-19T16:50:02.379613",
     "status": "completed"
    },
    "tags": []
   },
   "outputs": [],
   "source": [
    "from sklearn.metrics import accuracy_score,confusion_matrix"
   ]
  },
  {
   "cell_type": "code",
   "execution_count": 17,
   "id": "076a985b",
   "metadata": {
    "execution": {
     "iopub.execute_input": "2024-01-19T16:50:02.410081Z",
     "iopub.status.busy": "2024-01-19T16:50:02.409474Z",
     "iopub.status.idle": "2024-01-19T16:50:02.415034Z",
     "shell.execute_reply": "2024-01-19T16:50:02.413992Z"
    },
    "papermill": {
     "duration": 0.015608,
     "end_time": "2024-01-19T16:50:02.416803",
     "exception": false,
     "start_time": "2024-01-19T16:50:02.401195",
     "status": "completed"
    },
    "tags": []
   },
   "outputs": [
    {
     "name": "stdout",
     "output_type": "stream",
     "text": [
      "0.9666666666666667\n"
     ]
    }
   ],
   "source": [
    "print(accuracy_score(y_test,y_pred))"
   ]
  },
  {
   "cell_type": "code",
   "execution_count": 18,
   "id": "611c6f5e",
   "metadata": {
    "execution": {
     "iopub.execute_input": "2024-01-19T16:50:02.432959Z",
     "iopub.status.busy": "2024-01-19T16:50:02.431982Z",
     "iopub.status.idle": "2024-01-19T16:50:02.441236Z",
     "shell.execute_reply": "2024-01-19T16:50:02.440577Z"
    },
    "papermill": {
     "duration": 0.01913,
     "end_time": "2024-01-19T16:50:02.442959",
     "exception": false,
     "start_time": "2024-01-19T16:50:02.423829",
     "status": "completed"
    },
    "tags": []
   },
   "outputs": [
    {
     "data": {
      "text/html": [
       "<div>\n",
       "<style scoped>\n",
       "    .dataframe tbody tr th:only-of-type {\n",
       "        vertical-align: middle;\n",
       "    }\n",
       "\n",
       "    .dataframe tbody tr th {\n",
       "        vertical-align: top;\n",
       "    }\n",
       "\n",
       "    .dataframe thead th {\n",
       "        text-align: right;\n",
       "    }\n",
       "</style>\n",
       "<table border=\"1\" class=\"dataframe\">\n",
       "  <thead>\n",
       "    <tr style=\"text-align: right;\">\n",
       "      <th></th>\n",
       "      <th>0</th>\n",
       "      <th>1</th>\n",
       "      <th>2</th>\n",
       "    </tr>\n",
       "  </thead>\n",
       "  <tbody>\n",
       "    <tr>\n",
       "      <th>0</th>\n",
       "      <td>14</td>\n",
       "      <td>0</td>\n",
       "      <td>0</td>\n",
       "    </tr>\n",
       "    <tr>\n",
       "      <th>1</th>\n",
       "      <td>0</td>\n",
       "      <td>7</td>\n",
       "      <td>1</td>\n",
       "    </tr>\n",
       "    <tr>\n",
       "      <th>2</th>\n",
       "      <td>0</td>\n",
       "      <td>0</td>\n",
       "      <td>8</td>\n",
       "    </tr>\n",
       "  </tbody>\n",
       "</table>\n",
       "</div>"
      ],
      "text/plain": [
       "    0  1  2\n",
       "0  14  0  0\n",
       "1   0  7  1\n",
       "2   0  0  8"
      ]
     },
     "execution_count": 18,
     "metadata": {},
     "output_type": "execute_result"
    }
   ],
   "source": [
    "pd.DataFrame(confusion_matrix(y_test,y_pred))"
   ]
  },
  {
   "cell_type": "markdown",
   "id": "7967dd1c",
   "metadata": {
    "papermill": {
     "duration": 0.007008,
     "end_time": "2024-01-19T16:50:02.457160",
     "exception": false,
     "start_time": "2024-01-19T16:50:02.450152",
     "status": "completed"
    },
    "tags": []
   },
   "source": [
    "only 1 flower is wrongly predicted it belongs to class 1 but pred as 2\n"
   ]
  },
  {
   "cell_type": "code",
   "execution_count": 19,
   "id": "b60b54d2",
   "metadata": {
    "execution": {
     "iopub.execute_input": "2024-01-19T16:50:02.473166Z",
     "iopub.status.busy": "2024-01-19T16:50:02.472775Z",
     "iopub.status.idle": "2024-01-19T16:50:02.482798Z",
     "shell.execute_reply": "2024-01-19T16:50:02.482026Z"
    },
    "papermill": {
     "duration": 0.020303,
     "end_time": "2024-01-19T16:50:02.484602",
     "exception": false,
     "start_time": "2024-01-19T16:50:02.464299",
     "status": "completed"
    },
    "tags": []
   },
   "outputs": [
    {
     "name": "stderr",
     "output_type": "stream",
     "text": [
      "/opt/conda/lib/python3.10/site-packages/sklearn/base.py:439: UserWarning: X does not have valid feature names, but LogisticRegression was fitted with feature names\n",
      "  warnings.warn(\n"
     ]
    },
    {
     "data": {
      "text/plain": [
       "array([[1.46719543e-01, 8.53160171e-01, 1.20286031e-04]])"
      ]
     },
     "execution_count": 19,
     "metadata": {},
     "output_type": "execute_result"
    }
   ],
   "source": [
    "# taking some radom value for checking\n",
    "sample = np.array([[8.3,2.7]])\n",
    "clf.predict_proba(sample)"
   ]
  },
  {
   "cell_type": "code",
   "execution_count": 20,
   "id": "e91e11bc",
   "metadata": {
    "execution": {
     "iopub.execute_input": "2024-01-19T16:50:02.501382Z",
     "iopub.status.busy": "2024-01-19T16:50:02.500808Z",
     "iopub.status.idle": "2024-01-19T16:50:02.507908Z",
     "shell.execute_reply": "2024-01-19T16:50:02.506933Z"
    },
    "papermill": {
     "duration": 0.018107,
     "end_time": "2024-01-19T16:50:02.510106",
     "exception": false,
     "start_time": "2024-01-19T16:50:02.491999",
     "status": "completed"
    },
    "tags": []
   },
   "outputs": [
    {
     "name": "stderr",
     "output_type": "stream",
     "text": [
      "/opt/conda/lib/python3.10/site-packages/sklearn/base.py:439: UserWarning: X does not have valid feature names, but LogisticRegression was fitted with feature names\n",
      "  warnings.warn(\n"
     ]
    },
    {
     "data": {
      "text/plain": [
       "array([1])"
      ]
     },
     "execution_count": 20,
     "metadata": {},
     "output_type": "execute_result"
    }
   ],
   "source": [
    "clf.predict(sample)"
   ]
  },
  {
   "cell_type": "markdown",
   "id": "2228451b",
   "metadata": {
    "papermill": {
     "duration": 0.007554,
     "end_time": "2024-01-19T16:50:02.525751",
     "exception": false,
     "start_time": "2024-01-19T16:50:02.518197",
     "status": "completed"
    },
    "tags": []
   },
   "source": [
    "# **Graph plotting**"
   ]
  },
  {
   "cell_type": "code",
   "execution_count": 21,
   "id": "cf53d245",
   "metadata": {
    "execution": {
     "iopub.execute_input": "2024-01-19T16:50:02.543296Z",
     "iopub.status.busy": "2024-01-19T16:50:02.542574Z",
     "iopub.status.idle": "2024-01-19T16:50:03.053737Z",
     "shell.execute_reply": "2024-01-19T16:50:03.052551Z"
    },
    "papermill": {
     "duration": 0.522635,
     "end_time": "2024-01-19T16:50:03.056057",
     "exception": false,
     "start_time": "2024-01-19T16:50:02.533422",
     "status": "completed"
    },
    "tags": []
   },
   "outputs": [
    {
     "name": "stderr",
     "output_type": "stream",
     "text": [
      "/opt/conda/lib/python3.10/site-packages/sklearn/base.py:439: UserWarning: X does not have valid feature names, but LogisticRegression was fitted with feature names\n",
      "  warnings.warn(\n"
     ]
    },
    {
     "data": {
      "image/png": "[encoded data removed]",
      "text/plain": [
       "<Figure size 640x480 with 1 Axes>"
      ]
     },
     "metadata": {},
     "output_type": "display_data"
    }
   ],
   "source": [
    "from mlxtend.plotting import plot_decision_regions\n",
    "import matplotlib.pyplot as plt\n",
    "plot_decision_regions(X.values, y.values,clf,legend=2)\n",
    "plt.xlabel('sepal length')\n",
    "plt.ylabel('petal length')\n",
    "plt.title('softmax on IRIS')\n",
    "plt.show()"
   ]
  }
 ],
 "metadata": {
  "kaggle": {
   "accelerator": "none",
   "dataSources": [
    {
     "datasetId": 19,
     "sourceId": 420,
     "sourceType": "datasetVersion"
    }
   ],
   "dockerImageVersionId": 30635,
   "isGpuEnabled": false,
   "isInternetEnabled": true,
   "language": "python",
   "sourceType": "notebook"
  },
  "kernelspec": {
   "display_name": "Python 3",
   "language": "python",
   "name": "python3"
  },
  "language_info": {
   "codemirror_mode": {
    "name": "ipython",
    "version": 3
   },
   "file_extension": ".py",
   "mimetype": "text/x-python",
   "name": "python",
   "nbconvert_exporter": "python",
   "pygments_lexer": "ipython3",
   "version": "3.10.12"
  },
  "papermill": {
   "default_parameters": {},
   "duration": 6.26308,
   "end_time": "2024-01-19T16:50:03.584170",
   "environment_variables": {},
   "exception": null,
   "input_path": "__notebook__.ipynb",
   "output_path": "__notebook__.ipynb",
   "parameters": {},
   "start_time": "2024-01-19T16:49:57.321090",
   "version": "2.4.0"
  }
 },
 "nbformat": 4,
 "nbformat_minor": 5
}
